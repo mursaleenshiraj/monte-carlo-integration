{
 "cells": [
  {
   "cell_type": "code",
   "execution_count": 1,
   "metadata": {
    "collapsed": true
   },
   "outputs": [],
   "source": [
    "import numpy as np\n",
    "import scipy.stats as stats"
   ]
  },
  {
   "cell_type": "markdown",
   "metadata": {},
   "source": [
    "Given $x \\sim Normal(0, 1)$, we need to calculate the moment $e^{-e^{x}}$. So, we are trying to evaluate an integral\n",
    "\\begin{equation}\n",
    "E[e^{-e^{x}}]=\\int_{-\\infty}^{\\infty} e^{-e^{x}} \\frac{1}{\\sqrt{2\\pi}} e^{-\\frac{x^2}{2}} dx\n",
    "\\end{equation}"
   ]
  },
  {
   "cell_type": "code",
   "execution_count": 2,
   "metadata": {
    "collapsed": true
   },
   "outputs": [],
   "source": [
    "def givenfunction(x):\n",
    "    '''we eventually want to calculate the moment of this function.'''\n",
    "    return np.exp(-1*np.exp(x))"
   ]
  },
  {
   "cell_type": "code",
   "execution_count": 3,
   "metadata": {
    "collapsed": true
   },
   "outputs": [],
   "source": [
    "class mcinteg():\n",
    "    \n",
    "    '''This is a class to perform monte-carlo integration\n",
    "    for a given function, where the argument of the function \n",
    "    is distributed standard normal'''\n",
    "    \n",
    "    def __init__(self, givenfunction):\n",
    "        \n",
    "        self.givenfunction=givenfunction\n",
    "        \n",
    "        \n",
    "    def integ(self, iter=1000):\n",
    "        \n",
    "        iter1=0\n",
    "        a=[]\n",
    "        while iter1<iter:\n",
    "            \n",
    "            x=stats.norm(0, 1).rvs()\n",
    "            a.append(self.givenfunction(x))\n",
    "            iter1=iter1+1\n",
    "            \n",
    "        return sum(a)/len(a)\n",
    "    "
   ]
  },
  {
   "cell_type": "code",
   "execution_count": 4,
   "metadata": {
    "collapsed": true
   },
   "outputs": [],
   "source": [
    "f=mcinteg(givenfunction)"
   ]
  },
  {
   "cell_type": "code",
   "execution_count": 5,
   "metadata": {},
   "outputs": [
    {
     "data": {
      "text/plain": [
       "0.373130532516464"
      ]
     },
     "execution_count": 5,
     "metadata": {},
     "output_type": "execute_result"
    }
   ],
   "source": [
    "f.integ()"
   ]
  },
  {
   "cell_type": "markdown",
   "metadata": {},
   "source": [
    "The result given in C&T0.381 after a million iteration (after 1000, they found 0.382). Can we get closer to this number by running the iteration for longer?"
   ]
  },
  {
   "cell_type": "code",
   "execution_count": 6,
   "metadata": {},
   "outputs": [
    {
     "data": {
      "text/plain": [
       "0.38827338317311294"
      ]
     },
     "execution_count": 6,
     "metadata": {},
     "output_type": "execute_result"
    }
   ],
   "source": [
    "f.integ(iter=10000)"
   ]
  }
 ],
 "metadata": {
  "kernelspec": {
   "display_name": "Python 3",
   "language": "python",
   "name": "python3"
  },
  "language_info": {
   "codemirror_mode": {
    "name": "ipython",
    "version": 3
   },
   "file_extension": ".py",
   "mimetype": "text/x-python",
   "name": "python",
   "nbconvert_exporter": "python",
   "pygments_lexer": "ipython3",
   "version": "3.6.1"
  }
 },
 "nbformat": 4,
 "nbformat_minor": 2
}
